{
 "cells": [
  {
   "cell_type": "code",
   "execution_count": 1,
   "id": "25fb42cc-1a18-4084-bfb5-24f6c5834a3a",
   "metadata": {},
   "outputs": [],
   "source": [
    "#Data manipulation\n",
    "import pandas as pd\n",
    "import numpy as np\n",
    "\n",
    "#Data visualization\n",
    "from matplotlib import rcParams\n",
    "import matplotlib as mpl\n",
    "import matplotlib.pyplot as plt\n",
    "import seaborn as sns\n",
    "import plotly.express as px\n",
    "\n",
    "#ML\n",
    "from sklearn.preprocessing import MinMaxScaler\n",
    "from sklearn.model_selection import train_test_split\n",
    "from sklearn.linear_model import LogisticRegression\n",
    "from sklearn.metrics import precision_score\n",
    "from sklearn.metrics import plot_confusion_matrix\n",
    "from sklearn.metrics import plot_roc_curve\n",
    "\n",
    "# apply some cool styling\n",
    "plt.style.use(\"ggplot\")"
   ]
  },
  {
   "cell_type": "markdown",
   "id": "f3d85bf0-b709-4eae-84ed-636900519d30",
   "metadata": {},
   "source": [
    "## Importing and understading the data"
   ]
  },
  {
   "cell_type": "code",
   "execution_count": 2,
   "id": "83379e73-ff56-48e2-bff8-09e91f129503",
   "metadata": {},
   "outputs": [
    {
     "data": {
      "text/plain": [
       "(7043, 21)"
      ]
     },
     "execution_count": 2,
     "metadata": {},
     "output_type": "execute_result"
    }
   ],
   "source": [
    "df = pd.read_csv('telecom_churn_data.csv')\n",
    "df.shape"
   ]
  },
  {
   "cell_type": "markdown",
   "id": "6e3b5638-43b0-4b2e-a64b-12474483528f",
   "metadata": {},
   "source": [
    "We have 7043 rows and 21 features in our dataset"
   ]
  },
  {
   "cell_type": "code",
   "execution_count": 3,
   "id": "b8dc4fdd-1658-4103-b422-3a90486b3350",
   "metadata": {},
   "outputs": [
    {
     "data": {
      "text/html": [
       "<div>\n",
       "<style scoped>\n",
       "    .dataframe tbody tr th:only-of-type {\n",
       "        vertical-align: middle;\n",
       "    }\n",
       "\n",
       "    .dataframe tbody tr th {\n",
       "        vertical-align: top;\n",
       "    }\n",
       "\n",
       "    .dataframe thead th {\n",
       "        text-align: right;\n",
       "    }\n",
       "</style>\n",
       "<table border=\"1\" class=\"dataframe\">\n",
       "  <thead>\n",
       "    <tr style=\"text-align: right;\">\n",
       "      <th></th>\n",
       "      <th>customerID</th>\n",
       "      <th>gender</th>\n",
       "      <th>SeniorCitizen</th>\n",
       "      <th>Partner</th>\n",
       "      <th>Dependents</th>\n",
       "      <th>tenure</th>\n",
       "      <th>PhoneService</th>\n",
       "      <th>MultipleLines</th>\n",
       "      <th>InternetService</th>\n",
       "      <th>OnlineSecurity</th>\n",
       "      <th>...</th>\n",
       "      <th>DeviceProtection</th>\n",
       "      <th>TechSupport</th>\n",
       "      <th>StreamingTV</th>\n",
       "      <th>StreamingMovies</th>\n",
       "      <th>Contract</th>\n",
       "      <th>PaperlessBilling</th>\n",
       "      <th>PaymentMethod</th>\n",
       "      <th>MonthlyCharges</th>\n",
       "      <th>TotalCharges</th>\n",
       "      <th>Churn</th>\n",
       "    </tr>\n",
       "  </thead>\n",
       "  <tbody>\n",
       "    <tr>\n",
       "      <th>0</th>\n",
       "      <td>7590-VHVEG</td>\n",
       "      <td>Female</td>\n",
       "      <td>0</td>\n",
       "      <td>Yes</td>\n",
       "      <td>No</td>\n",
       "      <td>1</td>\n",
       "      <td>No</td>\n",
       "      <td>No phone service</td>\n",
       "      <td>DSL</td>\n",
       "      <td>No</td>\n",
       "      <td>...</td>\n",
       "      <td>No</td>\n",
       "      <td>No</td>\n",
       "      <td>No</td>\n",
       "      <td>No</td>\n",
       "      <td>Month-to-month</td>\n",
       "      <td>Yes</td>\n",
       "      <td>Electronic check</td>\n",
       "      <td>29.85</td>\n",
       "      <td>29.85</td>\n",
       "      <td>No</td>\n",
       "    </tr>\n",
       "    <tr>\n",
       "      <th>1</th>\n",
       "      <td>5575-GNVDE</td>\n",
       "      <td>Male</td>\n",
       "      <td>0</td>\n",
       "      <td>No</td>\n",
       "      <td>No</td>\n",
       "      <td>34</td>\n",
       "      <td>Yes</td>\n",
       "      <td>No</td>\n",
       "      <td>DSL</td>\n",
       "      <td>Yes</td>\n",
       "      <td>...</td>\n",
       "      <td>Yes</td>\n",
       "      <td>No</td>\n",
       "      <td>No</td>\n",
       "      <td>No</td>\n",
       "      <td>One year</td>\n",
       "      <td>No</td>\n",
       "      <td>Mailed check</td>\n",
       "      <td>56.95</td>\n",
       "      <td>1889.5</td>\n",
       "      <td>No</td>\n",
       "    </tr>\n",
       "    <tr>\n",
       "      <th>2</th>\n",
       "      <td>3668-QPYBK</td>\n",
       "      <td>Male</td>\n",
       "      <td>0</td>\n",
       "      <td>No</td>\n",
       "      <td>No</td>\n",
       "      <td>2</td>\n",
       "      <td>Yes</td>\n",
       "      <td>No</td>\n",
       "      <td>DSL</td>\n",
       "      <td>Yes</td>\n",
       "      <td>...</td>\n",
       "      <td>No</td>\n",
       "      <td>No</td>\n",
       "      <td>No</td>\n",
       "      <td>No</td>\n",
       "      <td>Month-to-month</td>\n",
       "      <td>Yes</td>\n",
       "      <td>Mailed check</td>\n",
       "      <td>53.85</td>\n",
       "      <td>108.15</td>\n",
       "      <td>Yes</td>\n",
       "    </tr>\n",
       "    <tr>\n",
       "      <th>3</th>\n",
       "      <td>7795-CFOCW</td>\n",
       "      <td>Male</td>\n",
       "      <td>0</td>\n",
       "      <td>No</td>\n",
       "      <td>No</td>\n",
       "      <td>45</td>\n",
       "      <td>No</td>\n",
       "      <td>No phone service</td>\n",
       "      <td>DSL</td>\n",
       "      <td>Yes</td>\n",
       "      <td>...</td>\n",
       "      <td>Yes</td>\n",
       "      <td>Yes</td>\n",
       "      <td>No</td>\n",
       "      <td>No</td>\n",
       "      <td>One year</td>\n",
       "      <td>No</td>\n",
       "      <td>Bank transfer (automatic)</td>\n",
       "      <td>42.30</td>\n",
       "      <td>1840.75</td>\n",
       "      <td>No</td>\n",
       "    </tr>\n",
       "    <tr>\n",
       "      <th>4</th>\n",
       "      <td>9237-HQITU</td>\n",
       "      <td>Female</td>\n",
       "      <td>0</td>\n",
       "      <td>No</td>\n",
       "      <td>No</td>\n",
       "      <td>2</td>\n",
       "      <td>Yes</td>\n",
       "      <td>No</td>\n",
       "      <td>Fiber optic</td>\n",
       "      <td>No</td>\n",
       "      <td>...</td>\n",
       "      <td>No</td>\n",
       "      <td>No</td>\n",
       "      <td>No</td>\n",
       "      <td>No</td>\n",
       "      <td>Month-to-month</td>\n",
       "      <td>Yes</td>\n",
       "      <td>Electronic check</td>\n",
       "      <td>70.70</td>\n",
       "      <td>151.65</td>\n",
       "      <td>Yes</td>\n",
       "    </tr>\n",
       "  </tbody>\n",
       "</table>\n",
       "<p>5 rows × 21 columns</p>\n",
       "</div>"
      ],
      "text/plain": [
       "   customerID  gender  SeniorCitizen Partner Dependents  tenure PhoneService  \\\n",
       "0  7590-VHVEG  Female              0     Yes         No       1           No   \n",
       "1  5575-GNVDE    Male              0      No         No      34          Yes   \n",
       "2  3668-QPYBK    Male              0      No         No       2          Yes   \n",
       "3  7795-CFOCW    Male              0      No         No      45           No   \n",
       "4  9237-HQITU  Female              0      No         No       2          Yes   \n",
       "\n",
       "      MultipleLines InternetService OnlineSecurity  ... DeviceProtection  \\\n",
       "0  No phone service             DSL             No  ...               No   \n",
       "1                No             DSL            Yes  ...              Yes   \n",
       "2                No             DSL            Yes  ...               No   \n",
       "3  No phone service             DSL            Yes  ...              Yes   \n",
       "4                No     Fiber optic             No  ...               No   \n",
       "\n",
       "  TechSupport StreamingTV StreamingMovies        Contract PaperlessBilling  \\\n",
       "0          No          No              No  Month-to-month              Yes   \n",
       "1          No          No              No        One year               No   \n",
       "2          No          No              No  Month-to-month              Yes   \n",
       "3         Yes          No              No        One year               No   \n",
       "4          No          No              No  Month-to-month              Yes   \n",
       "\n",
       "               PaymentMethod MonthlyCharges  TotalCharges Churn  \n",
       "0           Electronic check          29.85         29.85    No  \n",
       "1               Mailed check          56.95        1889.5    No  \n",
       "2               Mailed check          53.85        108.15   Yes  \n",
       "3  Bank transfer (automatic)          42.30       1840.75    No  \n",
       "4           Electronic check          70.70        151.65   Yes  \n",
       "\n",
       "[5 rows x 21 columns]"
      ]
     },
     "execution_count": 3,
     "metadata": {},
     "output_type": "execute_result"
    }
   ],
   "source": [
    "df.head(5)"
   ]
  },
  {
   "cell_type": "code",
   "execution_count": 4,
   "id": "607abe84-56da-4dbe-b480-ef2ca675e7eb",
   "metadata": {},
   "outputs": [
    {
     "data": {
      "text/plain": [
       "Index(['customerID', 'gender', 'SeniorCitizen', 'Partner', 'Dependents',\n",
       "       'tenure', 'PhoneService', 'MultipleLines', 'InternetService',\n",
       "       'OnlineSecurity', 'OnlineBackup', 'DeviceProtection', 'TechSupport',\n",
       "       'StreamingTV', 'StreamingMovies', 'Contract', 'PaperlessBilling',\n",
       "       'PaymentMethod', 'MonthlyCharges', 'TotalCharges', 'Churn'],\n",
       "      dtype='object')"
      ]
     },
     "execution_count": 4,
     "metadata": {},
     "output_type": "execute_result"
    }
   ],
   "source": [
    "df.columns"
   ]
  },
  {
   "cell_type": "code",
   "execution_count": 5,
   "id": "1c1be3b9-957d-4254-aeb9-04cc4961540d",
   "metadata": {},
   "outputs": [
    {
     "name": "stdout",
     "output_type": "stream",
     "text": [
      "<class 'pandas.core.frame.DataFrame'>\n",
      "RangeIndex: 7043 entries, 0 to 7042\n",
      "Data columns (total 21 columns):\n",
      " #   Column            Non-Null Count  Dtype  \n",
      "---  ------            --------------  -----  \n",
      " 0   customerID        7043 non-null   object \n",
      " 1   gender            7043 non-null   object \n",
      " 2   SeniorCitizen     7043 non-null   int64  \n",
      " 3   Partner           7043 non-null   object \n",
      " 4   Dependents        7043 non-null   object \n",
      " 5   tenure            7043 non-null   int64  \n",
      " 6   PhoneService      7043 non-null   object \n",
      " 7   MultipleLines     7043 non-null   object \n",
      " 8   InternetService   7043 non-null   object \n",
      " 9   OnlineSecurity    7043 non-null   object \n",
      " 10  OnlineBackup      7043 non-null   object \n",
      " 11  DeviceProtection  7043 non-null   object \n",
      " 12  TechSupport       7043 non-null   object \n",
      " 13  StreamingTV       7043 non-null   object \n",
      " 14  StreamingMovies   7043 non-null   object \n",
      " 15  Contract          7043 non-null   object \n",
      " 16  PaperlessBilling  7043 non-null   object \n",
      " 17  PaymentMethod     7043 non-null   object \n",
      " 18  MonthlyCharges    7043 non-null   float64\n",
      " 19  TotalCharges      7043 non-null   object \n",
      " 20  Churn             7043 non-null   object \n",
      "dtypes: float64(1), int64(2), object(18)\n",
      "memory usage: 1.1+ MB\n"
     ]
    }
   ],
   "source": [
    "df.info()"
   ]
  },
  {
   "cell_type": "markdown",
   "id": "c462c08e-743a-49c6-bbf1-8ff51ec7b5d6",
   "metadata": {},
   "source": [
    "As we can see, most of the features are categorical"
   ]
  },
  {
   "cell_type": "code",
   "execution_count": 42,
   "id": "825ff241-e741-4646-9b19-e92629bd8493",
   "metadata": {},
   "outputs": [
    {
     "data": {
      "text/html": [
       "<div>\n",
       "<style scoped>\n",
       "    .dataframe tbody tr th:only-of-type {\n",
       "        vertical-align: middle;\n",
       "    }\n",
       "\n",
       "    .dataframe tbody tr th {\n",
       "        vertical-align: top;\n",
       "    }\n",
       "\n",
       "    .dataframe thead th {\n",
       "        text-align: right;\n",
       "    }\n",
       "</style>\n",
       "<table border=\"1\" class=\"dataframe\">\n",
       "  <thead>\n",
       "    <tr style=\"text-align: right;\">\n",
       "      <th></th>\n",
       "      <th>senior_citizen</th>\n",
       "      <th>tenure</th>\n",
       "      <th>monthly_charges</th>\n",
       "      <th>total_charges</th>\n",
       "    </tr>\n",
       "  </thead>\n",
       "  <tbody>\n",
       "    <tr>\n",
       "      <th>count</th>\n",
       "      <td>7032.000000</td>\n",
       "      <td>7032.000000</td>\n",
       "      <td>7032.000000</td>\n",
       "      <td>7032.000000</td>\n",
       "    </tr>\n",
       "    <tr>\n",
       "      <th>mean</th>\n",
       "      <td>0.162400</td>\n",
       "      <td>32.421786</td>\n",
       "      <td>64.798208</td>\n",
       "      <td>2283.300441</td>\n",
       "    </tr>\n",
       "    <tr>\n",
       "      <th>std</th>\n",
       "      <td>0.368844</td>\n",
       "      <td>24.545260</td>\n",
       "      <td>30.085974</td>\n",
       "      <td>2266.771362</td>\n",
       "    </tr>\n",
       "    <tr>\n",
       "      <th>min</th>\n",
       "      <td>0.000000</td>\n",
       "      <td>1.000000</td>\n",
       "      <td>18.250000</td>\n",
       "      <td>18.800000</td>\n",
       "    </tr>\n",
       "    <tr>\n",
       "      <th>25%</th>\n",
       "      <td>0.000000</td>\n",
       "      <td>9.000000</td>\n",
       "      <td>35.587500</td>\n",
       "      <td>401.450000</td>\n",
       "    </tr>\n",
       "    <tr>\n",
       "      <th>50%</th>\n",
       "      <td>0.000000</td>\n",
       "      <td>29.000000</td>\n",
       "      <td>70.350000</td>\n",
       "      <td>1397.475000</td>\n",
       "    </tr>\n",
       "    <tr>\n",
       "      <th>75%</th>\n",
       "      <td>0.000000</td>\n",
       "      <td>55.000000</td>\n",
       "      <td>89.862500</td>\n",
       "      <td>3794.737500</td>\n",
       "    </tr>\n",
       "    <tr>\n",
       "      <th>max</th>\n",
       "      <td>1.000000</td>\n",
       "      <td>72.000000</td>\n",
       "      <td>118.750000</td>\n",
       "      <td>8684.800000</td>\n",
       "    </tr>\n",
       "  </tbody>\n",
       "</table>\n",
       "</div>"
      ],
      "text/plain": [
       "       senior_citizen       tenure  monthly_charges  total_charges\n",
       "count     7032.000000  7032.000000      7032.000000    7032.000000\n",
       "mean         0.162400    32.421786        64.798208    2283.300441\n",
       "std          0.368844    24.545260        30.085974    2266.771362\n",
       "min          0.000000     1.000000        18.250000      18.800000\n",
       "25%          0.000000     9.000000        35.587500     401.450000\n",
       "50%          0.000000    29.000000        70.350000    1397.475000\n",
       "75%          0.000000    55.000000        89.862500    3794.737500\n",
       "max          1.000000    72.000000       118.750000    8684.800000"
      ]
     },
     "execution_count": 42,
     "metadata": {},
     "output_type": "execute_result"
    }
   ],
   "source": [
    "df.describe()"
   ]
  },
  {
   "cell_type": "markdown",
   "id": "4056c294-c892-4c9a-8213-aa00e9d17fb1",
   "metadata": {},
   "source": [
    "## Preparation and transformation"
   ]
  },
  {
   "cell_type": "code",
   "execution_count": 6,
   "id": "94737c41-3de5-4a19-806b-ac983a8fc46e",
   "metadata": {},
   "outputs": [],
   "source": [
    "#Dropping the column customerID, since it's of no use for us\n",
    "df = df.drop(['customerID'], axis=1)"
   ]
  },
  {
   "cell_type": "code",
   "execution_count": 7,
   "id": "0b511efc-01b2-4cf4-82c3-f923dd9d13f7",
   "metadata": {},
   "outputs": [],
   "source": [
    "#Converting the TotalCharges column into a numeric format\n",
    "df['TotalCharges'] = pd.to_numeric(df['TotalCharges'], errors = 'coerce')"
   ]
  },
  {
   "cell_type": "code",
   "execution_count": 8,
   "id": "e7e442f9-a16b-47e3-8db0-70b6a85c1fcc",
   "metadata": {},
   "outputs": [
    {
     "data": {
      "text/plain": [
       "gender               0\n",
       "SeniorCitizen        0\n",
       "Partner              0\n",
       "Dependents           0\n",
       "tenure               0\n",
       "PhoneService         0\n",
       "MultipleLines        0\n",
       "InternetService      0\n",
       "OnlineSecurity       0\n",
       "OnlineBackup         0\n",
       "DeviceProtection     0\n",
       "TechSupport          0\n",
       "StreamingTV          0\n",
       "StreamingMovies      0\n",
       "Contract             0\n",
       "PaperlessBilling     0\n",
       "PaymentMethod        0\n",
       "MonthlyCharges       0\n",
       "TotalCharges        11\n",
       "Churn                0\n",
       "dtype: int64"
      ]
     },
     "execution_count": 8,
     "metadata": {},
     "output_type": "execute_result"
    }
   ],
   "source": [
    "#Checking for empty values\n",
    "df.isnull().sum()"
   ]
  },
  {
   "cell_type": "code",
   "execution_count": 9,
   "id": "848a9fc5-33b7-44b5-b4dd-0a1575eb48b1",
   "metadata": {},
   "outputs": [],
   "source": [
    "#Since we have 11 null values in the TotalCharges column, we can can drop these 11 rows\n",
    "df.dropna(axis=0, inplace = True)"
   ]
  },
  {
   "cell_type": "code",
   "execution_count": 10,
   "id": "89138cf2-2a28-40a3-9924-38df81bc1237",
   "metadata": {},
   "outputs": [
    {
     "data": {
      "text/plain": [
       "Index(['gender', 'senior_citizen', 'partner', 'dependents', 'tenure',\n",
       "       'phone_service', 'multiple_lines', 'internet_service',\n",
       "       'online_security', 'online_backup', 'device_protection', 'tech_support',\n",
       "       'streaming_tv', 'streaming_movies', 'contract', 'paperless_billing',\n",
       "       'payment_method', 'monthly_charges', 'total_charges', 'churn'],\n",
       "      dtype='object')"
      ]
     },
     "execution_count": 10,
     "metadata": {},
     "output_type": "execute_result"
    }
   ],
   "source": [
    "#Fixing column names. We want the following format to make our lives easier: word_word\n",
    "df.columns = df.columns.str.lower()\n",
    "df.rename(columns={'seniorcitizen':'senior_citizen', 'phoneservice':'phone_service',\n",
    "                   'multiplelines':'multiple_lines', 'internetservice':'internet_service',\n",
    "                   'onlinesecurity': 'online_security', 'onlinebackup':'online_backup',\n",
    "                   'deviceprotection':'device_protection', 'techsupport':'tech_support',\n",
    "                   'streamingtv':'streaming_tv', 'streamingmovies':'streaming_movies',\n",
    "                   'paperlessbilling':'paperless_billing', 'paymentmethod':'payment_method',\n",
    "                   'monthlycharges':'monthly_charges', 'totalcharges':'total_charges'}, inplace=True)\n",
    "df.columns"
   ]
  },
  {
   "cell_type": "markdown",
   "id": "ffa43d58-417e-4ffb-b1cc-7f4aef90689a",
   "metadata": {},
   "source": [
    "## Exploratory Data Analysis (EDA)\n",
    "From now on, we will explore our data trying to find insights and patterns"
   ]
  },
  {
   "cell_type": "markdown",
   "id": "d46692d9-1f6f-4269-a9ad-d459bde650ba",
   "metadata": {},
   "source": [
    "#### Univariate analysis"
   ]
  },
  {
   "cell_type": "markdown",
   "id": "a6f82019-d5be-4f61-9698-22ab0e5711c4",
   "metadata": {},
   "source": [
    "**Univariate analysis** _ churn variable"
   ]
  },
  {
   "cell_type": "code",
   "execution_count": 11,
   "id": "0ef51fd5-1f97-469c-9096-cbaab4e5254b",
   "metadata": {},
   "outputs": [
    {
     "data": {
      "text/plain": [
       "Text(0, 0.5, 'Count')"
      ]
     },
     "execution_count": 11,
     "metadata": {},
     "output_type": "execute_result"
    },
    {
     "data": {
      "image/png": "[encoded data removed]",
      "text/plain": [
       "<Figure size 720x432 with 1 Axes>"
      ]
     },
     "metadata": {
      "needs_background": "light"
     },
     "output_type": "display_data"
    }
   ],
   "source": [
    "#fig = plt.figure(figsize=(10, 6))\n",
    "\n",
    "df['churn'].value_counts().plot(kind=\"bar\", figsize=(10, 6))\n",
    "plt.title(\"Value counts of the churn variable\")\n",
    "plt.xlabel(\"Churn or not\")\n",
    "plt.xticks(rotation=0)\n",
    "plt.ylabel(\"Count\")"
   ]
  },
  {
   "cell_type": "code",
   "execution_count": 12,
   "id": "5d9d7974-87fb-4c14-9511-3a5cf1e52e60",
   "metadata": {},
   "outputs": [
    {
     "data": {
      "image/png": "[encoded data removed]",
      "text/plain": [
       "<Figure size 720x432 with 1 Axes>"
      ]
     },
     "metadata": {},
     "output_type": "display_data"
    }
   ],
   "source": [
    "fig = plt.figure(figsize=(10, 6))\n",
    "df['churn'].value_counts(normalize=True).plot(kind=\"pie\", autopct='%1.1f%%')\n",
    "plt.title(\"Pie chart of the churn variable\")\n",
    "plt.show()"
   ]
  },
  {
   "cell_type": "markdown",
   "id": "12c74117-c07e-4afa-9eed-85440fa2c15f",
   "metadata": {},
   "source": [
    "As we can see, 73% of our dataset is composed of customers that did not churn. This is important for our classification model later on."
   ]
  },
  {
   "cell_type": "markdown",
   "id": "3671779b-5e76-43f5-8a3b-5c612117d94f",
   "metadata": {},
   "source": [
    "**Univariate analysis** _ demographics: gender, senior citizen, partner and dependents variables"
   ]
  },
  {
   "cell_type": "code",
   "execution_count": 13,
   "id": "854f8fd1-428e-4db9-b25b-537665d3fea1",
   "metadata": {},
   "outputs": [
    {
     "data": {
      "image/png": "[encoded data removed]",
      "text/plain": [
       "<Figure size 936x576 with 4 Axes>"
      ]
     },
     "metadata": {
      "needs_background": "light"
     },
     "output_type": "display_data"
    }
   ],
   "source": [
    "fig = plt.figure(figsize=(13, 8))\n",
    "\n",
    "#Gender\n",
    "fig.add_subplot(221)\n",
    "df['gender'].value_counts(normalize=True).plot(kind=\"bar\")\n",
    "plt.title(\"Gender\")\n",
    "plt.xlabel(\"Gender\")\n",
    "plt.xticks(rotation=0)\n",
    "plt.ylabel(\"% of customers\")\n",
    "\n",
    "#Senior citizen\n",
    "fig.add_subplot(222)\n",
    "df['senior_citizen'].map({0:'No', 1:'Yes'}).value_counts(normalize=True).plot(kind=\"bar\")\n",
    "plt.title(\"Senior citizen\")\n",
    "plt.xlabel(\"Senior citizen or not\")\n",
    "plt.ylabel(\"% of customers\")\n",
    "plt.xticks(rotation=0)\n",
    "\n",
    "#Partner\n",
    "fig.add_subplot(223)\n",
    "df['partner'].value_counts(normalize=True).plot(kind=\"bar\")\n",
    "plt.title(\"Partner\")\n",
    "plt.xlabel(\"Partner or not\")\n",
    "plt.xticks(rotation=0)\n",
    "plt.ylabel(\"% of customers\")\n",
    "\n",
    "#Dependents\n",
    "fig.add_subplot(224)\n",
    "df['dependents'].value_counts(normalize=True).plot(kind=\"bar\")\n",
    "plt.title(\"Dependents\")\n",
    "plt.xlabel(\"Dependents or not\")\n",
    "plt.ylabel(\"% of customers\")\n",
    "plt.xticks(rotation=0)\n",
    "\n",
    "plt.subplots_adjust(wspace=0.2,hspace=0.4)\n",
    "\n",
    "plt.show()"
   ]
  },
  {
   "cell_type": "markdown",
   "id": "2440cb72-34b7-4b27-9ea9-72292a80ab9d",
   "metadata": {},
   "source": [
    "Conclusions:\n",
    "- Our dataset is pretty even when it comes to gender.\n",
    "- More than 80% of our dataset is composed of non senior citizens.\n",
    "- A little bit more than 50% of our customers have a partner\n",
    "- Almost 70% of our customers have a dependent (which is generally a son)"
   ]
  },
  {
   "cell_type": "markdown",
   "id": "e7cd0f00-2c66-4069-aca7-3adf0a37e3a0",
   "metadata": {},
   "source": [
    "**Univariate analysis** _ tenure variable"
   ]
  },
  {
   "cell_type": "code",
   "execution_count": 14,
   "id": "2fa923e6-4ed9-4060-b082-0f14d27cd900",
   "metadata": {},
   "outputs": [
    {
     "data": {
      "text/plain": [
       "<Figure size 720x432 with 0 Axes>"
      ]
     },
     "metadata": {},
     "output_type": "display_data"
    },
    {
     "data": {
      "image/png": "[encoded data removed]",
      "text/plain": [
       "<Figure size 360x360 with 1 Axes>"
      ]
     },
     "metadata": {
      "needs_background": "light"
     },
     "output_type": "display_data"
    }
   ],
   "source": [
    "fig = plt.figure(figsize=(10, 6))\n",
    "sns.displot(df['tenure'], kde=False, bins=30)\n",
    "plt.title('# of customers by their tenure in months')\n",
    "plt.show()"
   ]
  },
  {
   "cell_type": "markdown",
   "id": "0d05aa4c-2609-4f32-89d8-3cce383bb341",
   "metadata": {},
   "source": [
    "The highest number of customers have a short term tenure. Also, there a lot of customers that have a long term tenure. "
   ]
  },
  {
   "cell_type": "markdown",
   "id": "0f568e9f-c7e4-42d6-b9f8-4f2c00489c1b",
   "metadata": {},
   "source": [
    "**Univariate analysis** _ contract type variable"
   ]
  },
  {
   "cell_type": "code",
   "execution_count": 15,
   "id": "f72a9fad-3e2b-4b96-8867-3ccfbc47f973",
   "metadata": {},
   "outputs": [
    {
     "data": {
      "image/png": "[encoded data removed]",
      "text/plain": [
       "<Figure size 720x432 with 1 Axes>"
      ]
     },
     "metadata": {
      "needs_background": "light"
     },
     "output_type": "display_data"
    }
   ],
   "source": [
    "fig = plt.figure(figsize=(10, 6))\n",
    "df['contract'].value_counts(normalize=True).plot(kind=\"bar\")\n",
    "plt.title(\"Contract\")\n",
    "plt.xlabel(\"Contract type\")\n",
    "plt.xticks(rotation=0)\n",
    "plt.show()"
   ]
  },
  {
   "cell_type": "markdown",
   "id": "9e136cd6-efeb-4a81-abb1-1f714e2c9770",
   "metadata": {},
   "source": [
    "Most users are on a month-to-month contract. The churn rate amongst those costumers might be higher, since they don't have any contractual obligation keeping them from churning."
   ]
  },
  {
   "cell_type": "markdown",
   "id": "aec70811-0612-4185-8136-b715f8686e43",
   "metadata": {},
   "source": [
    "**Univariate analysis** _ services used"
   ]
  },
  {
   "cell_type": "code",
   "execution_count": 16,
   "id": "31f8a470-3631-4eaf-bdc2-7bcfe4988205",
   "metadata": {},
   "outputs": [],
   "source": [
    "services=['phone_service', 'multiple_lines', 'internet_service', 'online_security', 'online_backup', 'device_protection', 'tech_support', 'streaming_tv', 'streaming_movies']\n",
    "services_users = {}\n",
    "\n",
    "for service in services:\n",
    "    if service == 'internet_service':\n",
    "        services_users[service] = df[df[service]!='No'].shape[0]\n",
    "    else:\n",
    "        services_users[service] = df[df[service]=='Yes'].shape[0]"
   ]
  },
  {
   "cell_type": "code",
   "execution_count": 17,
   "id": "892cb0d7-826d-4856-a3ee-0491c0a76a55",
   "metadata": {},
   "outputs": [],
   "source": [
    "users = pd.DataFrame(services_users.items(), columns=['service', 'users'])\n",
    "users.sort_values('users', ascending=False, inplace=True)"
   ]
  },
  {
   "cell_type": "code",
   "execution_count": 18,
   "id": "7d8661b8-f06d-4ce3-9c0c-4b13d58cf5e0",
   "metadata": {},
   "outputs": [
    {
     "data": {
      "image/png": "[encoded data removed]",
      "text/plain": [
       "<Figure size 720x432 with 1 Axes>"
      ]
     },
     "metadata": {
      "needs_background": "light"
     },
     "output_type": "display_data"
    }
   ],
   "source": [
    "fig = plt.figure(figsize=(10, 6))\n",
    "plt.bar(users['service'], users['users'])\n",
    "plt.title(\"Amount of users per service\")\n",
    "plt.ylabel(\"Users\")\n",
    "plt.xticks(rotation=45)\n",
    "plt.show()"
   ]
  },
  {
   "cell_type": "markdown",
   "id": "3602d49e-416e-42f4-be93-29d1490cb488",
   "metadata": {},
   "source": [
    "The most popular services in our telecom network are phone and internet services, as expected. Tech support and online security, on the other hand, are the most impopular services."
   ]
  },
  {
   "cell_type": "markdown",
   "id": "854f7099-448e-451e-85a9-ab5c42ec29d0",
   "metadata": {
    "tags": []
   },
   "source": [
    "#### Multivariate analysis"
   ]
  },
  {
   "cell_type": "markdown",
   "id": "b419ad5b-1ed1-4217-ad59-913d400bdff8",
   "metadata": {},
   "source": [
    "**Multivariate analysis** _ churn vs demographics variables"
   ]
  },
  {
   "cell_type": "code",
   "execution_count": 19,
   "id": "783983a5-fc20-47fb-a8d9-6cbdbc9361c3",
   "metadata": {},
   "outputs": [
    {
     "data": {
      "image/png": "[encoded data removed]",
      "text/plain": [
       "<Figure size 936x576 with 4 Axes>"
      ]
     },
     "metadata": {
      "needs_background": "light"
     },
     "output_type": "display_data"
    }
   ],
   "source": [
    "fig = plt.figure(figsize=(13, 8))\n",
    "\n",
    "#Gender\n",
    "fig.add_subplot(221)\n",
    "sns.countplot(data = df, x='gender', hue='churn')\n",
    "plt.title(\"Gender\")\n",
    "plt.xlabel(\"Gender\")\n",
    "plt.xticks(rotation=0)\n",
    "plt.ylabel(\"Customers\")\n",
    "\n",
    "#Senior citizen\n",
    "fig.add_subplot(222)\n",
    "sns.countplot(data = df, x = df['senior_citizen'].map({0:'No', 1:'Yes'}), hue='churn')\n",
    "plt.title(\"Senior citizen\")\n",
    "plt.xlabel(\"Senior citizen or not\")\n",
    "plt.ylabel(\"Customers\")\n",
    "plt.xticks(rotation=0)\n",
    "\n",
    "#Partner\n",
    "fig.add_subplot(223)\n",
    "sns.countplot(data = df, x = 'partner', hue='churn')\n",
    "plt.title(\"Partner\")\n",
    "plt.xlabel(\"Partner or not\")\n",
    "plt.xticks(rotation=0)\n",
    "plt.ylabel(\"Customers\")\n",
    "plt.ylabel(\"customers\")\n",
    "\n",
    "#Dependents\n",
    "fig.add_subplot(224)\n",
    "sns.countplot(data = df, x = 'dependents', hue='churn')\n",
    "plt.title(\"Dependents\")\n",
    "plt.xlabel(\"Dependents or not\")\n",
    "plt.ylabel(\"Customers\")\n",
    "plt.xticks(rotation=0)\n",
    "\n",
    "plt.subplots_adjust(wspace=0.2,hspace=0.4)\n",
    "\n",
    "plt.show()"
   ]
  },
  {
   "cell_type": "markdown",
   "id": "0da56000-aa05-4a16-808e-cf0a2fca564e",
   "metadata": {},
   "source": [
    "**Multivariate analysis** _ churn vs contract type"
   ]
  },
  {
   "cell_type": "code",
   "execution_count": 20,
   "id": "95022bba-cbf4-4172-a66e-7987c5e61083",
   "metadata": {},
   "outputs": [
    {
     "data": {
      "image/png": "[encoded data removed]",
      "text/plain": [
       "<Figure size 720x432 with 1 Axes>"
      ]
     },
     "metadata": {
      "needs_background": "light"
     },
     "output_type": "display_data"
    }
   ],
   "source": [
    "fig = plt.figure(figsize=(10, 6))\n",
    "sns.countplot(data = df, x='contract', hue='churn')\n",
    "plt.title(\"Churn vs contract type\")\n",
    "plt.xlabel(\"Contract type\")\n",
    "plt.xticks(rotation=0)\n",
    "plt.ylabel(\"Customers\")\n",
    "plt.show()"
   ]
  },
  {
   "cell_type": "markdown",
   "id": "1ba1d474-e6f4-47e6-b801-de0d79b65e8d",
   "metadata": {},
   "source": [
    "**Multivariate analysis** _ churn vs total and monthly charges"
   ]
  },
  {
   "cell_type": "code",
   "execution_count": 21,
   "id": "fe9579ca-c040-4027-855c-90d9c2bb96d8",
   "metadata": {},
   "outputs": [
    {
     "data": {
      "image/png": "[encoded data removed]",
      "text/plain": [
       "<Figure size 936x360 with 2 Axes>"
      ]
     },
     "metadata": {
      "needs_background": "light"
     },
     "output_type": "display_data"
    }
   ],
   "source": [
    "fig = plt.figure(figsize=(13, 5))\n",
    "\n",
    "fig.add_subplot(121)\n",
    "sns.kdeplot(df['monthly_charges'][df['churn']=='No'], shade=True)\n",
    "sns.kdeplot(df['monthly_charges'][df['churn']=='Yes'], shade=True)\n",
    "plt.legend([\"Not Churn\",\"Churn\"],loc='upper right')\n",
    "plt.title(\"Churn by monthly charges\")\n",
    "\n",
    "fig.add_subplot(122)\n",
    "sns.kdeplot(df['total_charges'][df['churn']=='No'], shade=True)\n",
    "sns.kdeplot(df['total_charges'][df['churn']=='Yes'], shade=True)\n",
    "plt.legend([\"Not Churn\",\"Churn\"],loc='upper right')\n",
    "plt.title(\"Churn by total charges\")\n",
    "\n",
    "plt.subplots_adjust(wspace=0.2,hspace=0.4)\n",
    "plt.show()"
   ]
  },
  {
   "cell_type": "markdown",
   "id": "104999de-29aa-44ba-a97c-6965711bc874",
   "metadata": {
    "tags": []
   },
   "source": [
    "**Multivariate analysis** _ pairplots"
   ]
  },
  {
   "cell_type": "markdown",
   "id": "684cf5e9-1641-4449-a4d6-8569c62b8c51",
   "metadata": {},
   "source": [
    "**Multivariate analysis** _ correlation matrix"
   ]
  },
  {
   "cell_type": "markdown",
   "id": "8b0371aa-8dbb-4978-8233-23c990b59a8d",
   "metadata": {},
   "source": [
    "We will let both the pairplot and correlation heatmap matrix for later, when we have our dataset encoded :D"
   ]
  },
  {
   "cell_type": "markdown",
   "id": "bd743af7-5168-47ab-a067-706747862a8b",
   "metadata": {
    "tags": []
   },
   "source": [
    "## Modeling and classification"
   ]
  },
  {
   "cell_type": "markdown",
   "id": "f00dd724-1333-48de-bea2-924d13db9126",
   "metadata": {},
   "source": [
    "#### Encoding\n",
    "As we can see, there are a lot of object values in the dataset. In the next steps we will convert them to numeric values. Encoding is going to be useful whenever we start applying our models. We will create functions to encode our binary, ordinal and nominal features."
   ]
  },
  {
   "cell_type": "code",
   "execution_count": 22,
   "id": "b61d9516-08bf-4277-a9b0-f04d4fb78169",
   "metadata": {},
   "outputs": [],
   "source": [
    "#Create a copy of our dataframe\n",
    "customers = df.copy()"
   ]
  },
  {
   "cell_type": "code",
   "execution_count": 23,
   "id": "28ae0548-c680-4a99-82ce-13f3d9711593",
   "metadata": {},
   "outputs": [],
   "source": [
    "def get_uniques(df, columns):\n",
    "    return {column: list(df[column].unique()) for column in columns}"
   ]
  },
  {
   "cell_type": "code",
   "execution_count": 24,
   "id": "00a9905b-727e-4376-a0be-5db40f3d8719",
   "metadata": {},
   "outputs": [
    {
     "data": {
      "text/plain": [
       "{'gender': ['Female', 'Male'],\n",
       " 'senior_citizen': [0, 1],\n",
       " 'partner': ['Yes', 'No'],\n",
       " 'dependents': ['No', 'Yes'],\n",
       " 'phone_service': ['No', 'Yes'],\n",
       " 'multiple_lines': ['No phone service', 'No', 'Yes'],\n",
       " 'internet_service': ['DSL', 'Fiber optic', 'No'],\n",
       " 'online_security': ['No', 'Yes', 'No internet service'],\n",
       " 'online_backup': ['Yes', 'No', 'No internet service'],\n",
       " 'device_protection': ['No', 'Yes', 'No internet service'],\n",
       " 'tech_support': ['No', 'Yes', 'No internet service'],\n",
       " 'streaming_tv': ['No', 'Yes', 'No internet service'],\n",
       " 'streaming_movies': ['No', 'Yes', 'No internet service'],\n",
       " 'contract': ['Month-to-month', 'One year', 'Two year'],\n",
       " 'paperless_billing': ['Yes', 'No'],\n",
       " 'payment_method': ['Electronic check',\n",
       "  'Mailed check',\n",
       "  'Bank transfer (automatic)',\n",
       "  'Credit card (automatic)'],\n",
       " 'churn': ['No', 'Yes']}"
      ]
     },
     "execution_count": 24,
     "metadata": {},
     "output_type": "execute_result"
    }
   ],
   "source": [
    "get_uniques(customers, ['gender', 'senior_citizen', 'partner', 'dependents', 'phone_service', 'multiple_lines', 'internet_service', 'online_security', 'online_backup', 'device_protection', 'tech_support',\n",
    "       'streaming_tv', 'streaming_movies', 'contract', 'paperless_billing', 'payment_method', 'churn'])"
   ]
  },
  {
   "cell_type": "code",
   "execution_count": 25,
   "id": "af85b504-f30e-47ee-b485-41cc3cf56b8a",
   "metadata": {},
   "outputs": [],
   "source": [
    "binary_features = ['gender', 'partner', 'dependents', 'phone_service', 'paperless_billing', 'churn']"
   ]
  },
  {
   "cell_type": "code",
   "execution_count": 26,
   "id": "27ee19a3-e6e0-45f8-a6b3-82462ec4c43e",
   "metadata": {},
   "outputs": [],
   "source": [
    "ordinal_features = ['multiple_lines',  'online_security', 'online_backup', 'device_protection', 'tech_support', 'streaming_movies', 'streaming_tv', 'contract', 'internet_service', 'payment_method']"
   ]
  },
  {
   "cell_type": "code",
   "execution_count": 27,
   "id": "0f7f638d-cc1b-49d7-8112-bdcbad364124",
   "metadata": {},
   "outputs": [],
   "source": [
    "nominal_features = [] #we are assuming we dont have nominal features"
   ]
  },
  {
   "cell_type": "code",
   "execution_count": 28,
   "id": "022fe83f-5be9-41e9-bc16-53fc05bd9f4e",
   "metadata": {},
   "outputs": [],
   "source": [
    "def binary_encode(df, column, positive_label):\n",
    "    df = df.copy()\n",
    "    df[column] = df[column].apply(lambda x: 1 if x == positive_label else 0)\n",
    "    return df"
   ]
  },
  {
   "cell_type": "code",
   "execution_count": 29,
   "id": "d5730da3-1434-41b9-a1a8-dedd6845d9ee",
   "metadata": {},
   "outputs": [],
   "source": [
    "def ordinal_encode(df, column, ordering):\n",
    "    df = df.copy()\n",
    "    df[column] = df[column].apply(lambda x: ordering.index(x))\n",
    "    return df"
   ]
  },
  {
   "cell_type": "code",
   "execution_count": 30,
   "id": "77da931b-67a3-47ca-a930-7b101ef88c36",
   "metadata": {},
   "outputs": [],
   "source": [
    "def onehot_encode(df, column):\n",
    "    df = df.copy()\n",
    "    dummies = pd.get_dummies(df[column])\n",
    "    df = pd.concat([df, dummies], axis = 1)\n",
    "    df.drop(column, axis=1, inplace=True)\n",
    "    return df"
   ]
  },
  {
   "cell_type": "code",
   "execution_count": 31,
   "id": "75825613-5b17-4250-ac3c-6e016a1b0b33",
   "metadata": {},
   "outputs": [],
   "source": [
    "#Encoding binary features\n",
    "customers = binary_encode(customers, 'gender', 'Male')\n",
    "customers = binary_encode(customers, 'partner', 'Yes')\n",
    "customers = binary_encode(customers, 'dependents', 'Yes')\n",
    "customers = binary_encode(customers, 'phone_service', 'Yes')\n",
    "customers = binary_encode(customers, 'paperless_billing', 'Yes')\n",
    "customers = binary_encode(customers, 'churn', 'Yes')"
   ]
  },
  {
   "cell_type": "code",
   "execution_count": 32,
   "id": "2c94e100-bd6f-47f4-9d31-0f0a09444a4b",
   "metadata": {},
   "outputs": [],
   "source": [
    "#Encoding ordinal features\n",
    "customers = ordinal_encode(customers, 'online_security', ['No internet service', 'No', 'Yes'])\n",
    "customers = ordinal_encode(customers, 'online_backup', ['No internet service', 'No', 'Yes'])\n",
    "customers = ordinal_encode(customers, 'device_protection', ['No internet service', 'No', 'Yes'])\n",
    "customers = ordinal_encode(customers, 'tech_support', ['No internet service', 'No', 'Yes'])\n",
    "customers = ordinal_encode(customers, 'streaming_tv', ['No internet service', 'No', 'Yes'])\n",
    "customers = ordinal_encode(customers, 'streaming_movies', ['No internet service', 'No', 'Yes'])\n",
    "customers = ordinal_encode(customers, 'contract', ['Month-to-month', 'One year', 'Two year'])\n",
    "customers = ordinal_encode(customers, 'multiple_lines', ['No phone service', 'No', 'Yes'])\n",
    "customers = ordinal_encode(customers, 'internet_service', ['No', 'DSL', 'Fiber optic'])\n",
    "customers = ordinal_encode(customers, 'payment_method', ['Mailed check', 'Electronic check', 'Bank transfer (automatic)', 'Credit card (automatic)'])"
   ]
  },
  {
   "cell_type": "code",
   "execution_count": 33,
   "id": "c73c2bbd-351f-4469-a21b-f60d3d5010a4",
   "metadata": {},
   "outputs": [
    {
     "data": {
      "text/html": [
       "<div>\n",
       "<style scoped>\n",
       "    .dataframe tbody tr th:only-of-type {\n",
       "        vertical-align: middle;\n",
       "    }\n",
       "\n",
       "    .dataframe tbody tr th {\n",
       "        vertical-align: top;\n",
       "    }\n",
       "\n",
       "    .dataframe thead th {\n",
       "        text-align: right;\n",
       "    }\n",
       "</style>\n",
       "<table border=\"1\" class=\"dataframe\">\n",
       "  <thead>\n",
       "    <tr style=\"text-align: right;\">\n",
       "      <th></th>\n",
       "      <th>gender</th>\n",
       "      <th>senior_citizen</th>\n",
       "      <th>partner</th>\n",
       "      <th>dependents</th>\n",
       "      <th>tenure</th>\n",
       "      <th>phone_service</th>\n",
       "      <th>multiple_lines</th>\n",
       "      <th>internet_service</th>\n",
       "      <th>online_security</th>\n",
       "      <th>online_backup</th>\n",
       "      <th>device_protection</th>\n",
       "      <th>tech_support</th>\n",
       "      <th>streaming_tv</th>\n",
       "      <th>streaming_movies</th>\n",
       "      <th>contract</th>\n",
       "      <th>paperless_billing</th>\n",
       "      <th>payment_method</th>\n",
       "      <th>monthly_charges</th>\n",
       "      <th>total_charges</th>\n",
       "      <th>churn</th>\n",
       "    </tr>\n",
       "  </thead>\n",
       "  <tbody>\n",
       "    <tr>\n",
       "      <th>0</th>\n",
       "      <td>0</td>\n",
       "      <td>0</td>\n",
       "      <td>1</td>\n",
       "      <td>0</td>\n",
       "      <td>1</td>\n",
       "      <td>0</td>\n",
       "      <td>0</td>\n",
       "      <td>1</td>\n",
       "      <td>1</td>\n",
       "      <td>2</td>\n",
       "      <td>1</td>\n",
       "      <td>1</td>\n",
       "      <td>1</td>\n",
       "      <td>1</td>\n",
       "      <td>0</td>\n",
       "      <td>1</td>\n",
       "      <td>1</td>\n",
       "      <td>29.85</td>\n",
       "      <td>29.85</td>\n",
       "      <td>0</td>\n",
       "    </tr>\n",
       "    <tr>\n",
       "      <th>1</th>\n",
       "      <td>1</td>\n",
       "      <td>0</td>\n",
       "      <td>0</td>\n",
       "      <td>0</td>\n",
       "      <td>34</td>\n",
       "      <td>1</td>\n",
       "      <td>1</td>\n",
       "      <td>1</td>\n",
       "      <td>2</td>\n",
       "      <td>1</td>\n",
       "      <td>2</td>\n",
       "      <td>1</td>\n",
       "      <td>1</td>\n",
       "      <td>1</td>\n",
       "      <td>1</td>\n",
       "      <td>0</td>\n",
       "      <td>0</td>\n",
       "      <td>56.95</td>\n",
       "      <td>1889.50</td>\n",
       "      <td>0</td>\n",
       "    </tr>\n",
       "    <tr>\n",
       "      <th>2</th>\n",
       "      <td>1</td>\n",
       "      <td>0</td>\n",
       "      <td>0</td>\n",
       "      <td>0</td>\n",
       "      <td>2</td>\n",
       "      <td>1</td>\n",
       "      <td>1</td>\n",
       "      <td>1</td>\n",
       "      <td>2</td>\n",
       "      <td>2</td>\n",
       "      <td>1</td>\n",
       "      <td>1</td>\n",
       "      <td>1</td>\n",
       "      <td>1</td>\n",
       "      <td>0</td>\n",
       "      <td>1</td>\n",
       "      <td>0</td>\n",
       "      <td>53.85</td>\n",
       "      <td>108.15</td>\n",
       "      <td>1</td>\n",
       "    </tr>\n",
       "    <tr>\n",
       "      <th>3</th>\n",
       "      <td>1</td>\n",
       "      <td>0</td>\n",
       "      <td>0</td>\n",
       "      <td>0</td>\n",
       "      <td>45</td>\n",
       "      <td>0</td>\n",
       "      <td>0</td>\n",
       "      <td>1</td>\n",
       "      <td>2</td>\n",
       "      <td>1</td>\n",
       "      <td>2</td>\n",
       "      <td>2</td>\n",
       "      <td>1</td>\n",
       "      <td>1</td>\n",
       "      <td>1</td>\n",
       "      <td>0</td>\n",
       "      <td>2</td>\n",
       "      <td>42.30</td>\n",
       "      <td>1840.75</td>\n",
       "      <td>0</td>\n",
       "    </tr>\n",
       "    <tr>\n",
       "      <th>4</th>\n",
       "      <td>0</td>\n",
       "      <td>0</td>\n",
       "      <td>0</td>\n",
       "      <td>0</td>\n",
       "      <td>2</td>\n",
       "      <td>1</td>\n",
       "      <td>1</td>\n",
       "      <td>2</td>\n",
       "      <td>1</td>\n",
       "      <td>1</td>\n",
       "      <td>1</td>\n",
       "      <td>1</td>\n",
       "      <td>1</td>\n",
       "      <td>1</td>\n",
       "      <td>0</td>\n",
       "      <td>1</td>\n",
       "      <td>1</td>\n",
       "      <td>70.70</td>\n",
       "      <td>151.65</td>\n",
       "      <td>1</td>\n",
       "    </tr>\n",
       "  </tbody>\n",
       "</table>\n",
       "</div>"
      ],
      "text/plain": [
       "   gender  senior_citizen  partner  dependents  tenure  phone_service  \\\n",
       "0       0               0        1           0       1              0   \n",
       "1       1               0        0           0      34              1   \n",
       "2       1               0        0           0       2              1   \n",
       "3       1               0        0           0      45              0   \n",
       "4       0               0        0           0       2              1   \n",
       "\n",
       "   multiple_lines  internet_service  online_security  online_backup  \\\n",
       "0               0                 1                1              2   \n",
       "1               1                 1                2              1   \n",
       "2               1                 1                2              2   \n",
       "3               0                 1                2              1   \n",
       "4               1                 2                1              1   \n",
       "\n",
       "   device_protection  tech_support  streaming_tv  streaming_movies  contract  \\\n",
       "0                  1             1             1                 1         0   \n",
       "1                  2             1             1                 1         1   \n",
       "2                  1             1             1                 1         0   \n",
       "3                  2             2             1                 1         1   \n",
       "4                  1             1             1                 1         0   \n",
       "\n",
       "   paperless_billing  payment_method  monthly_charges  total_charges  churn  \n",
       "0                  1               1            29.85          29.85      0  \n",
       "1                  0               0            56.95        1889.50      0  \n",
       "2                  1               0            53.85         108.15      1  \n",
       "3                  0               2            42.30        1840.75      0  \n",
       "4                  1               1            70.70         151.65      1  "
      ]
     },
     "execution_count": 33,
     "metadata": {},
     "output_type": "execute_result"
    }
   ],
   "source": [
    "customers.head(5)"
   ]
  },
  {
   "cell_type": "markdown",
   "id": "1b3a021b-29fe-4f44-9e3f-e73a2981eccc",
   "metadata": {},
   "source": [
    "Let's check again for empty values"
   ]
  },
  {
   "cell_type": "markdown",
   "id": "3bc2a3d9-04db-43ab-ae1f-d688be5770c8",
   "metadata": {},
   "source": [
    "#### Spliting and Scaling"
   ]
  },
  {
   "cell_type": "code",
   "execution_count": 34,
   "id": "d79f8a0c-aac2-4924-aa27-149f865bef46",
   "metadata": {},
   "outputs": [],
   "source": [
    "y = customers['churn']\n",
    "X = customers.drop('churn', axis =1)"
   ]
  },
  {
   "cell_type": "code",
   "execution_count": 35,
   "id": "9892965d-481c-4c65-98bd-a4e6f3cf60cf",
   "metadata": {},
   "outputs": [],
   "source": [
    "scaler = MinMaxScaler()"
   ]
  },
  {
   "cell_type": "code",
   "execution_count": 36,
   "id": "91476cca-7997-44a7-95aa-0a4d83d88148",
   "metadata": {},
   "outputs": [],
   "source": [
    "X = scaler.fit_transform(X)"
   ]
  },
  {
   "cell_type": "code",
   "execution_count": 37,
   "id": "35e61c06-bdbf-40e5-afcf-8fe34e39f03f",
   "metadata": {},
   "outputs": [],
   "source": [
    "X_train, X_test, y_train, y_test = train_test_split(X, y, train_size = 0.7)"
   ]
  },
  {
   "cell_type": "markdown",
   "id": "78c06112-7239-4933-95f9-06171ea937c6",
   "metadata": {},
   "source": [
    "#### Training and evaluating our Logistic Regression"
   ]
  },
  {
   "cell_type": "code",
   "execution_count": 38,
   "id": "52ea9a34-9e04-4c83-829c-77bb51a97fb5",
   "metadata": {},
   "outputs": [
    {
     "data": {
      "text/plain": [
       "0.8023696682464455"
      ]
     },
     "execution_count": 38,
     "metadata": {},
     "output_type": "execute_result"
    }
   ],
   "source": [
    "model = LogisticRegression()\n",
    "model.fit(X_train, y_train)\n",
    "model.score(X_test, y_test)"
   ]
  },
  {
   "cell_type": "code",
   "execution_count": 39,
   "id": "364309e4-edde-4d37-8aa6-5a5b0a33ccbb",
   "metadata": {},
   "outputs": [
    {
     "name": "stderr",
     "output_type": "stream",
     "text": [
      "C:\\Users\\luan_\\miniconda3\\envs\\sfds\\lib\\site-packages\\sklearn\\utils\\deprecation.py:87: FutureWarning: Function plot_confusion_matrix is deprecated; Function `plot_confusion_matrix` is deprecated in 1.0 and will be removed in 1.2. Use one of the class methods: ConfusionMatrixDisplay.from_predictions or ConfusionMatrixDisplay.from_estimator.\n",
      "  warnings.warn(msg, category=FutureWarning)\n"
     ]
    },
    {
     "data": {
      "text/plain": [
       "<sklearn.metrics._plot.confusion_matrix.ConfusionMatrixDisplay at 0x2a66cc2b190>"
      ]
     },
     "execution_count": 39,
     "metadata": {},
     "output_type": "execute_result"
    },
    {
     "data": {
      "image/png": "[encoded data removed]",
      "text/plain": [
       "<Figure size 432x288 with 2 Axes>"
      ]
     },
     "metadata": {
      "needs_background": "light"
     },
     "output_type": "display_data"
    }
   ],
   "source": [
    "#Confusion matrix\n",
    "plot_confusion_matrix(model, X_test, y_test) "
   ]
  },
  {
   "cell_type": "code",
   "execution_count": 40,
   "id": "48562987-4eee-4366-b2d1-9ad936605533",
   "metadata": {},
   "outputs": [
    {
     "name": "stdout",
     "output_type": "stream",
     "text": [
      "Accuracy: 0.8109004739336493\n",
      "Precision: 0.6802575107296137\n",
      "Recall: 0.5590828924162258\n"
     ]
    }
   ],
   "source": [
    "print(f'Accuracy: {(317+1394)/(317+1394+149+250)}')\n",
    "print(f'Precision: {(317)/(317+149)}')\n",
    "print(f'Recall: {(317)/(317+250)}')"
   ]
  },
  {
   "cell_type": "markdown",
   "id": "ce38e3ff-617f-40b1-b282-142850ea8bba",
   "metadata": {},
   "source": [
    "In this case, precision is very important due to the fact that our Churn class is not very well balanced. Only 26% percent of our customers churn, so if our model somehow predicted zeros for every row, we would have an accuracy of 74%, even tho we completely failed to classify our data. Our 65% precision means the model did a good job correctly classifying churn cases."
   ]
  },
  {
   "cell_type": "code",
   "execution_count": 41,
   "id": "2373dc2d-b0f1-42eb-8728-aa330efff0d6",
   "metadata": {},
   "outputs": [
    {
     "name": "stderr",
     "output_type": "stream",
     "text": [
      "C:\\Users\\luan_\\miniconda3\\envs\\sfds\\lib\\site-packages\\sklearn\\utils\\deprecation.py:87: FutureWarning: Function plot_roc_curve is deprecated; Function :func:`plot_roc_curve` is deprecated in 1.0 and will be removed in 1.2. Use one of the class methods: :meth:`sklearn.metric.RocCurveDisplay.from_predictions` or :meth:`sklearn.metric.RocCurveDisplay.from_estimator`.\n",
      "  warnings.warn(msg, category=FutureWarning)\n"
     ]
    },
    {
     "data": {
      "text/plain": [
       "<sklearn.metrics._plot.roc_curve.RocCurveDisplay at 0x2a6654e7b50>"
      ]
     },
     "execution_count": 41,
     "metadata": {},
     "output_type": "execute_result"
    },
    {
     "data": {
      "image/png": "[encoded data removed]",
      "text/plain": [
       "<Figure size 432x288 with 1 Axes>"
      ]
     },
     "metadata": {
      "needs_background": "light"
     },
     "output_type": "display_data"
    }
   ],
   "source": [
    "plot_roc_curve(model, X_test, y_test)"
   ]
  },
  {
   "cell_type": "markdown",
   "id": "d3f82250-e6e4-453f-a857-db823a4f9c3b",
   "metadata": {},
   "source": [
    "The area under the curve for our LogReg is 0,85, which is pretty good."
   ]
  },
  {
   "cell_type": "markdown",
   "id": "b47e254f-b346-4969-bb6c-c80f622b2d4a",
   "metadata": {
    "tags": []
   },
   "source": [
    "## Conclusions"
   ]
  },
  {
   "cell_type": "code",
   "execution_count": null,
   "id": "e437ea41-3e7b-4300-835f-f7cdfcaa9960",
   "metadata": {},
   "outputs": [],
   "source": []
  }
 ],
 "metadata": {
  "kernelspec": {
   "display_name": "sfds_kernel",
   "language": "python",
   "name": "sfds_kernel"
  },
  "language_info": {
   "codemirror_mode": {
    "name": "ipython",
    "version": 3
   },
   "file_extension": ".py",
   "mimetype": "text/x-python",
   "name": "python",
   "nbconvert_exporter": "python",
   "pygments_lexer": "ipython3",
   "version": "3.10.5"
  }
 },
 "nbformat": 4,
 "nbformat_minor": 5
}
